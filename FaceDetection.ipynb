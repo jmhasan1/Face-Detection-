{
 "cells": [
  {
   "cell_type": "code",
   "execution_count": 4,
   "id": "9cc2fed5-7e58-4c4f-9918-10d2b7a83a9d",
   "metadata": {},
   "outputs": [
    {
     "name": "stdout",
     "output_type": "stream",
     "text": [
      "Requirement already satisfied: labelme in c:\\users\\jahid hasan\\miniconda3\\envs\\tf\\lib\\site-packages (5.4.1)\n",
      "Requirement already satisfied: tensorflow in c:\\users\\jahid hasan\\miniconda3\\envs\\tf\\lib\\site-packages (2.10.1)\n",
      "Requirement already satisfied: opencv-python in c:\\users\\jahid hasan\\miniconda3\\envs\\tf\\lib\\site-packages (4.9.0.80)\n",
      "Requirement already satisfied: matplotlib in c:\\users\\jahid hasan\\miniconda3\\envs\\tf\\lib\\site-packages (3.8.3)\n",
      "Requirement already satisfied: albumentations in c:\\users\\jahid hasan\\miniconda3\\envs\\tf\\lib\\site-packages (1.4.2)\n",
      "Requirement already satisfied: gdown in c:\\users\\jahid hasan\\miniconda3\\envs\\tf\\lib\\site-packages (from labelme) (5.1.0)\n",
      "Requirement already satisfied: imgviz>=1.7.5 in c:\\users\\jahid hasan\\miniconda3\\envs\\tf\\lib\\site-packages (from labelme) (1.7.5)\n",
      "Requirement already satisfied: natsort>=7.1.0 in c:\\users\\jahid hasan\\miniconda3\\envs\\tf\\lib\\site-packages (from labelme) (8.4.0)\n",
      "Requirement already satisfied: numpy in c:\\users\\jahid hasan\\miniconda3\\envs\\tf\\lib\\site-packages (from labelme) (1.26.4)\n",
      "Requirement already satisfied: onnxruntime!=1.16.0,>=1.14.1 in c:\\users\\jahid hasan\\miniconda3\\envs\\tf\\lib\\site-packages (from labelme) (1.17.1)\n",
      "Requirement already satisfied: Pillow>=2.8 in c:\\users\\jahid hasan\\miniconda3\\envs\\tf\\lib\\site-packages (from labelme) (10.2.0)\n",
      "Requirement already satisfied: PyYAML in c:\\users\\jahid hasan\\miniconda3\\envs\\tf\\lib\\site-packages (from labelme) (6.0.1)\n",
      "Requirement already satisfied: qtpy!=1.11.2 in c:\\users\\jahid hasan\\miniconda3\\envs\\tf\\lib\\site-packages (from labelme) (2.4.1)\n",
      "Requirement already satisfied: scikit-image in c:\\users\\jahid hasan\\miniconda3\\envs\\tf\\lib\\site-packages (from labelme) (0.22.0)\n",
      "Requirement already satisfied: termcolor in c:\\users\\jahid hasan\\miniconda3\\envs\\tf\\lib\\site-packages (from labelme) (2.4.0)\n",
      "Requirement already satisfied: PyQt5!=5.15.3,!=5.15.4 in c:\\users\\jahid hasan\\miniconda3\\envs\\tf\\lib\\site-packages (from labelme) (5.15.10)\n",
      "Requirement already satisfied: colorama in c:\\users\\jahid hasan\\miniconda3\\envs\\tf\\lib\\site-packages (from labelme) (0.4.6)\n",
      "Requirement already satisfied: absl-py>=1.0.0 in c:\\users\\jahid hasan\\miniconda3\\envs\\tf\\lib\\site-packages (from tensorflow) (1.4.0)\n",
      "Requirement already satisfied: astunparse>=1.6.0 in c:\\users\\jahid hasan\\miniconda3\\envs\\tf\\lib\\site-packages (from tensorflow) (1.6.3)\n",
      "Requirement already satisfied: flatbuffers>=2.0 in c:\\users\\jahid hasan\\miniconda3\\envs\\tf\\lib\\site-packages (from tensorflow) (23.5.26)\n",
      "Requirement already satisfied: gast<=0.4.0,>=0.2.1 in c:\\users\\jahid hasan\\miniconda3\\envs\\tf\\lib\\site-packages (from tensorflow) (0.4.0)\n",
      "Requirement already satisfied: google-pasta>=0.1.1 in c:\\users\\jahid hasan\\miniconda3\\envs\\tf\\lib\\site-packages (from tensorflow) (0.2.0)\n",
      "Requirement already satisfied: h5py>=2.9.0 in c:\\users\\jahid hasan\\miniconda3\\envs\\tf\\lib\\site-packages (from tensorflow) (3.10.0)\n",
      "Requirement already satisfied: keras-preprocessing>=1.1.1 in c:\\users\\jahid hasan\\miniconda3\\envs\\tf\\lib\\site-packages (from tensorflow) (1.1.2)\n",
      "Requirement already satisfied: libclang>=13.0.0 in c:\\users\\jahid hasan\\miniconda3\\envs\\tf\\lib\\site-packages (from tensorflow) (16.0.6)\n",
      "Requirement already satisfied: opt-einsum>=2.3.2 in c:\\users\\jahid hasan\\miniconda3\\envs\\tf\\lib\\site-packages (from tensorflow) (3.3.0)\n",
      "Requirement already satisfied: packaging in c:\\users\\jahid hasan\\miniconda3\\envs\\tf\\lib\\site-packages (from tensorflow) (23.1)\n",
      "Requirement already satisfied: protobuf<3.20,>=3.9.2 in c:\\users\\jahid hasan\\miniconda3\\envs\\tf\\lib\\site-packages (from tensorflow) (3.19.6)\n",
      "Requirement already satisfied: setuptools in c:\\users\\jahid hasan\\miniconda3\\envs\\tf\\lib\\site-packages (from tensorflow) (68.2.2)\n",
      "Requirement already satisfied: six>=1.12.0 in c:\\users\\jahid hasan\\miniconda3\\envs\\tf\\lib\\site-packages (from tensorflow) (1.16.0)\n",
      "Requirement already satisfied: typing-extensions>=3.6.6 in c:\\users\\jahid hasan\\miniconda3\\envs\\tf\\lib\\site-packages (from tensorflow) (4.10.0)\n",
      "Requirement already satisfied: wrapt>=1.11.0 in c:\\users\\jahid hasan\\miniconda3\\envs\\tf\\lib\\site-packages (from tensorflow) (1.16.0)\n",
      "Requirement already satisfied: tensorflow-io-gcs-filesystem>=0.23.1 in c:\\users\\jahid hasan\\miniconda3\\envs\\tf\\lib\\site-packages (from tensorflow) (0.31.0)\n",
      "Requirement already satisfied: grpcio<2.0,>=1.24.3 in c:\\users\\jahid hasan\\miniconda3\\envs\\tf\\lib\\site-packages (from tensorflow) (1.62.0)\n",
      "Requirement already satisfied: tensorboard<2.11,>=2.10 in c:\\users\\jahid hasan\\miniconda3\\envs\\tf\\lib\\site-packages (from tensorflow) (2.10.1)\n",
      "Requirement already satisfied: tensorflow-estimator<2.11,>=2.10.0 in c:\\users\\jahid hasan\\miniconda3\\envs\\tf\\lib\\site-packages (from tensorflow) (2.10.0)\n",
      "Requirement already satisfied: keras<2.11,>=2.10.0 in c:\\users\\jahid hasan\\miniconda3\\envs\\tf\\lib\\site-packages (from tensorflow) (2.10.0)\n",
      "Requirement already satisfied: contourpy>=1.0.1 in c:\\users\\jahid hasan\\miniconda3\\envs\\tf\\lib\\site-packages (from matplotlib) (1.2.0)\n",
      "Requirement already satisfied: cycler>=0.10 in c:\\users\\jahid hasan\\miniconda3\\envs\\tf\\lib\\site-packages (from matplotlib) (0.12.1)\n",
      "Requirement already satisfied: fonttools>=4.22.0 in c:\\users\\jahid hasan\\miniconda3\\envs\\tf\\lib\\site-packages (from matplotlib) (4.49.0)\n",
      "Requirement already satisfied: kiwisolver>=1.3.1 in c:\\users\\jahid hasan\\miniconda3\\envs\\tf\\lib\\site-packages (from matplotlib) (1.4.5)\n",
      "Requirement already satisfied: pyparsing>=2.3.1 in c:\\users\\jahid hasan\\miniconda3\\envs\\tf\\lib\\site-packages (from matplotlib) (3.1.1)\n",
      "Requirement already satisfied: python-dateutil>=2.7 in c:\\users\\jahid hasan\\miniconda3\\envs\\tf\\lib\\site-packages (from matplotlib) (2.8.2)\n",
      "Requirement already satisfied: importlib-resources>=3.2.0 in c:\\users\\jahid hasan\\miniconda3\\envs\\tf\\lib\\site-packages (from matplotlib) (6.1.2)\n",
      "Requirement already satisfied: scipy>=1.10.0 in c:\\users\\jahid hasan\\miniconda3\\envs\\tf\\lib\\site-packages (from albumentations) (1.12.0)\n",
      "Requirement already satisfied: scikit-learn>=1.3.2 in c:\\users\\jahid hasan\\miniconda3\\envs\\tf\\lib\\site-packages (from albumentations) (1.4.1.post1)\n",
      "Requirement already satisfied: opencv-python-headless>=4.9.0 in c:\\users\\jahid hasan\\miniconda3\\envs\\tf\\lib\\site-packages (from albumentations) (4.9.0.80)\n",
      "Requirement already satisfied: wheel<1.0,>=0.23.0 in c:\\users\\jahid hasan\\miniconda3\\envs\\tf\\lib\\site-packages (from astunparse>=1.6.0->tensorflow) (0.41.2)\n",
      "Requirement already satisfied: zipp>=3.1.0 in c:\\users\\jahid hasan\\miniconda3\\envs\\tf\\lib\\site-packages (from importlib-resources>=3.2.0->matplotlib) (3.17.0)\n",
      "Requirement already satisfied: coloredlogs in c:\\users\\jahid hasan\\miniconda3\\envs\\tf\\lib\\site-packages (from onnxruntime!=1.16.0,>=1.14.1->labelme) (15.0.1)\n",
      "Requirement already satisfied: sympy in c:\\users\\jahid hasan\\miniconda3\\envs\\tf\\lib\\site-packages (from onnxruntime!=1.16.0,>=1.14.1->labelme) (1.12)\n",
      "Requirement already satisfied: PyQt5-sip<13,>=12.13 in c:\\users\\jahid hasan\\miniconda3\\envs\\tf\\lib\\site-packages (from PyQt5!=5.15.3,!=5.15.4->labelme) (12.13.0)\n",
      "Requirement already satisfied: PyQt5-Qt5>=5.15.2 in c:\\users\\jahid hasan\\miniconda3\\envs\\tf\\lib\\site-packages (from PyQt5!=5.15.3,!=5.15.4->labelme) (5.15.2)\n",
      "Requirement already satisfied: networkx>=2.8 in c:\\users\\jahid hasan\\miniconda3\\envs\\tf\\lib\\site-packages (from scikit-image->labelme) (3.2.1)\n",
      "Requirement already satisfied: imageio>=2.27 in c:\\users\\jahid hasan\\miniconda3\\envs\\tf\\lib\\site-packages (from scikit-image->labelme) (2.34.0)\n",
      "Requirement already satisfied: tifffile>=2022.8.12 in c:\\users\\jahid hasan\\miniconda3\\envs\\tf\\lib\\site-packages (from scikit-image->labelme) (2024.2.12)\n",
      "Requirement already satisfied: lazy_loader>=0.3 in c:\\users\\jahid hasan\\miniconda3\\envs\\tf\\lib\\site-packages (from scikit-image->labelme) (0.3)\n",
      "Requirement already satisfied: joblib>=1.2.0 in c:\\users\\jahid hasan\\appdata\\roaming\\python\\python39\\site-packages (from scikit-learn>=1.3.2->albumentations) (1.2.0)\n",
      "Requirement already satisfied: threadpoolctl>=2.0.0 in c:\\users\\jahid hasan\\miniconda3\\envs\\tf\\lib\\site-packages (from scikit-learn>=1.3.2->albumentations) (3.3.0)\n",
      "Requirement already satisfied: google-auth<3,>=1.6.3 in c:\\users\\jahid hasan\\miniconda3\\envs\\tf\\lib\\site-packages (from tensorboard<2.11,>=2.10->tensorflow) (2.28.1)\n",
      "Requirement already satisfied: google-auth-oauthlib<0.5,>=0.4.1 in c:\\users\\jahid hasan\\miniconda3\\envs\\tf\\lib\\site-packages (from tensorboard<2.11,>=2.10->tensorflow) (0.4.6)\n",
      "Requirement already satisfied: markdown>=2.6.8 in c:\\users\\jahid hasan\\miniconda3\\envs\\tf\\lib\\site-packages (from tensorboard<2.11,>=2.10->tensorflow) (3.5.2)\n",
      "Requirement already satisfied: requests<3,>=2.21.0 in c:\\users\\jahid hasan\\miniconda3\\envs\\tf\\lib\\site-packages (from tensorboard<2.11,>=2.10->tensorflow) (2.31.0)\n",
      "Requirement already satisfied: tensorboard-data-server<0.7.0,>=0.6.0 in c:\\users\\jahid hasan\\miniconda3\\envs\\tf\\lib\\site-packages (from tensorboard<2.11,>=2.10->tensorflow) (0.6.1)\n",
      "Requirement already satisfied: tensorboard-plugin-wit>=1.6.0 in c:\\users\\jahid hasan\\miniconda3\\envs\\tf\\lib\\site-packages (from tensorboard<2.11,>=2.10->tensorflow) (1.8.1)\n",
      "Requirement already satisfied: werkzeug>=1.0.1 in c:\\users\\jahid hasan\\miniconda3\\envs\\tf\\lib\\site-packages (from tensorboard<2.11,>=2.10->tensorflow) (3.0.1)\n",
      "Requirement already satisfied: beautifulsoup4 in c:\\users\\jahid hasan\\miniconda3\\envs\\tf\\lib\\site-packages (from gdown->labelme) (4.12.2)\n",
      "Requirement already satisfied: filelock in c:\\users\\jahid hasan\\miniconda3\\envs\\tf\\lib\\site-packages (from gdown->labelme) (3.13.2)\n",
      "Requirement already satisfied: tqdm in c:\\users\\jahid hasan\\miniconda3\\envs\\tf\\lib\\site-packages (from gdown->labelme) (4.66.2)\n",
      "Requirement already satisfied: cachetools<6.0,>=2.0.0 in c:\\users\\jahid hasan\\miniconda3\\envs\\tf\\lib\\site-packages (from google-auth<3,>=1.6.3->tensorboard<2.11,>=2.10->tensorflow) (5.3.3)\n",
      "Requirement already satisfied: pyasn1-modules>=0.2.1 in c:\\users\\jahid hasan\\miniconda3\\envs\\tf\\lib\\site-packages (from google-auth<3,>=1.6.3->tensorboard<2.11,>=2.10->tensorflow) (0.3.0)\n",
      "Requirement already satisfied: rsa<5,>=3.1.4 in c:\\users\\jahid hasan\\miniconda3\\envs\\tf\\lib\\site-packages (from google-auth<3,>=1.6.3->tensorboard<2.11,>=2.10->tensorflow) (4.9)\n",
      "Requirement already satisfied: requests-oauthlib>=0.7.0 in c:\\users\\jahid hasan\\miniconda3\\envs\\tf\\lib\\site-packages (from google-auth-oauthlib<0.5,>=0.4.1->tensorboard<2.11,>=2.10->tensorflow) (1.3.1)\n",
      "Requirement already satisfied: importlib-metadata>=4.4 in c:\\users\\jahid hasan\\miniconda3\\envs\\tf\\lib\\site-packages (from markdown>=2.6.8->tensorboard<2.11,>=2.10->tensorflow) (7.0.1)\n",
      "Requirement already satisfied: charset-normalizer<4,>=2 in c:\\users\\jahid hasan\\miniconda3\\envs\\tf\\lib\\site-packages (from requests<3,>=2.21.0->tensorboard<2.11,>=2.10->tensorflow) (2.0.4)\n",
      "Requirement already satisfied: idna<4,>=2.5 in c:\\users\\jahid hasan\\miniconda3\\envs\\tf\\lib\\site-packages (from requests<3,>=2.21.0->tensorboard<2.11,>=2.10->tensorflow) (3.4)\n",
      "Requirement already satisfied: urllib3<3,>=1.21.1 in c:\\users\\jahid hasan\\miniconda3\\envs\\tf\\lib\\site-packages (from requests<3,>=2.21.0->tensorboard<2.11,>=2.10->tensorflow) (2.1.0)\n",
      "Requirement already satisfied: certifi>=2017.4.17 in c:\\users\\jahid hasan\\miniconda3\\envs\\tf\\lib\\site-packages (from requests<3,>=2.21.0->tensorboard<2.11,>=2.10->tensorflow) (2024.2.2)\n",
      "Requirement already satisfied: MarkupSafe>=2.1.1 in c:\\users\\jahid hasan\\miniconda3\\envs\\tf\\lib\\site-packages (from werkzeug>=1.0.1->tensorboard<2.11,>=2.10->tensorflow) (2.1.3)\n",
      "Requirement already satisfied: soupsieve>1.2 in c:\\users\\jahid hasan\\miniconda3\\envs\\tf\\lib\\site-packages (from beautifulsoup4->gdown->labelme) (2.5)\n",
      "Requirement already satisfied: humanfriendly>=9.1 in c:\\users\\jahid hasan\\miniconda3\\envs\\tf\\lib\\site-packages (from coloredlogs->onnxruntime!=1.16.0,>=1.14.1->labelme) (10.0)\n",
      "Requirement already satisfied: PySocks!=1.5.7,>=1.5.6 in c:\\users\\jahid hasan\\miniconda3\\envs\\tf\\lib\\site-packages (from requests[socks]->gdown->labelme) (1.7.1)\n",
      "Requirement already satisfied: mpmath>=0.19 in c:\\users\\jahid hasan\\miniconda3\\envs\\tf\\lib\\site-packages (from sympy->onnxruntime!=1.16.0,>=1.14.1->labelme) (1.3.0)\n",
      "Requirement already satisfied: pyreadline3 in c:\\users\\jahid hasan\\miniconda3\\envs\\tf\\lib\\site-packages (from humanfriendly>=9.1->coloredlogs->onnxruntime!=1.16.0,>=1.14.1->labelme) (3.4.1)\n",
      "Requirement already satisfied: pyasn1<0.6.0,>=0.4.6 in c:\\users\\jahid hasan\\miniconda3\\envs\\tf\\lib\\site-packages (from pyasn1-modules>=0.2.1->google-auth<3,>=1.6.3->tensorboard<2.11,>=2.10->tensorflow) (0.5.1)\n",
      "Requirement already satisfied: oauthlib>=3.0.0 in c:\\users\\jahid hasan\\miniconda3\\envs\\tf\\lib\\site-packages (from requests-oauthlib>=0.7.0->google-auth-oauthlib<0.5,>=0.4.1->tensorboard<2.11,>=2.10->tensorflow) (3.2.2)\n"
     ]
    }
   ],
   "source": [
    "!pip install labelme tensorflow opencv-python matplotlib albumentations"
   ]
  },
  {
   "cell_type": "code",
   "execution_count": 5,
   "id": "965379cf-1ea4-467a-96c3-3760dc5b4a50",
   "metadata": {},
   "outputs": [],
   "source": [
    "import os       #navigate through file paths\n",
    "import time      #time to move around while collecting images\n",
    "import uuid     # creates a uniform unique idntifier\n",
    "import cv2"
   ]
  },
  {
   "cell_type": "code",
   "execution_count": 7,
   "id": "de15f600-adab-433a-94b9-d0ae70e0721e",
   "metadata": {},
   "outputs": [],
   "source": [
    "IMAGES_PATH = os.path.join('data','images')\n",
    "number_images=20"
   ]
  },
  {
   "cell_type": "code",
   "execution_count": null,
   "id": "b540cae0-70a2-4049-8050-96af0e231387",
   "metadata": {},
   "outputs": [],
   "source": []
  }
 ],
 "metadata": {
  "kernelspec": {
   "display_name": "Python 3 (ipykernel)",
   "language": "python",
   "name": "python3"
  },
  "language_info": {
   "codemirror_mode": {
    "name": "ipython",
    "version": 3
   },
   "file_extension": ".py",
   "mimetype": "text/x-python",
   "name": "python",
   "nbconvert_exporter": "python",
   "pygments_lexer": "ipython3",
   "version": "3.9.18"
  }
 },
 "nbformat": 4,
 "nbformat_minor": 5
}
